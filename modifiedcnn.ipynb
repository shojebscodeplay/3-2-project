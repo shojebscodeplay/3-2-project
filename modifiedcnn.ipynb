{
  "nbformat": 4,
  "nbformat_minor": 0,
  "metadata": {
    "colab": {
      "provenance": [],
      "mount_file_id": "1Pj28yOCU7uxzVcEZlFAqUiaAfYwDJJwL",
      "authorship_tag": "ABX9TyMfhNrBa6BdevHrf1HYys+r",
      "include_colab_link": true
    },
    "kernelspec": {
      "name": "python3",
      "display_name": "Python 3"
    },
    "language_info": {
      "name": "python"
    },
    "gpuClass": "standard"
  },
  "cells": [
    {
      "cell_type": "markdown",
      "metadata": {
        "id": "view-in-github",
        "colab_type": "text"
      },
      "source": [
        "<a href=\"https://colab.research.google.com/github/shojebscodeplay/3-2-project/blob/main/modifiedcnn.ipynb\" target=\"_parent\"><img src=\"https://colab.research.google.com/assets/colab-badge.svg\" alt=\"Open In Colab\"/></a>"
      ]
    },
    {
      "cell_type": "code",
      "execution_count": null,
      "metadata": {
        "id": "pWotfL1refH2"
      },
      "outputs": [],
      "source": [
        "\n",
        "import seaborn as sns\n",
        "import matplotlib.pyplot as plt\n",
        "from imblearn.over_sampling import RandomOverSampler \n",
        "import numpy as np\n",
        "from sklearn.model_selection import train_test_split\n",
        "import os, cv2\n",
        "import tensorflow as tf\n",
        "from tensorflow import keras\n",
        "\n",
        "from tensorflow.keras.models import Sequential\n",
        "from tensorflow.keras.layers import Conv2D, Flatten, Dense, MaxPool2D"
      ]
    },
    {
      "cell_type": "code",
      "source": [
        "import pandas as pd\n",
        "\n",
        "# Read CSV file into DataFrame\n",
        "data = pd.read_csv('/content/drive/MyDrive/data source/hmnist_28_28_RGB.csv')\n",
        "\n",
        "# Display first few rows of DataFrame\n",
        "print(data.head())\n"
      ],
      "metadata": {
        "colab": {
          "base_uri": "https://localhost:8080/"
        },
        "id": "I5YGtm8vqSHa",
        "outputId": "74395a19-209a-43fc-c1f8-34de7bde7299"
      },
      "execution_count": null,
      "outputs": [
        {
          "output_type": "stream",
          "name": "stdout",
          "text": [
            "   pixel0000  pixel0001  pixel0002  pixel0003  pixel0004  pixel0005  \\\n",
            "0        192        153        193        195        155        192   \n",
            "1         25         14         30         68         48         75   \n",
            "2        192        138        153        200        145        163   \n",
            "3         38         19         30         95         59         72   \n",
            "4        158        113        139        194        144        174   \n",
            "\n",
            "   pixel0006  pixel0007  pixel0008  pixel0009  ...  pixel2343  pixel2344  \\\n",
            "0        197        154        185        202  ...        173        124   \n",
            "1        123         93        126        158  ...         60         39   \n",
            "2        201        142        160        206  ...        167        129   \n",
            "3        143        103        119        171  ...         44         26   \n",
            "4        215        162        191        225  ...        209        166   \n",
            "\n",
            "   pixel2345  pixel2346  pixel2347  pixel2348  pixel2349  pixel2350  \\\n",
            "0        138        183        147        166        185        154   \n",
            "1         55         25         14         28         25         14   \n",
            "2        143        159        124        142        136        104   \n",
            "3         36         25         12         17         25         12   \n",
            "4        185        172        135        149        109         78   \n",
            "\n",
            "   pixel2351  label  \n",
            "0        177      2  \n",
            "1         27      2  \n",
            "2        117      2  \n",
            "3         15      2  \n",
            "4         92      2  \n",
            "\n",
            "[5 rows x 2353 columns]\n"
          ]
        }
      ]
    },
    {
      "cell_type": "code",
      "source": [
        "y = data['label']\n",
        "x = data.drop(columns = ['label'])"
      ],
      "metadata": {
        "id": "PHK01VOerFDG"
      },
      "execution_count": null,
      "outputs": []
    },
    {
      "cell_type": "code",
      "source": [
        "tabular_data = pd.read_csv('/content/drive/MyDrive/data source/HAM10000_metadata.csv')\n",
        "tabular_data.head()"
      ],
      "metadata": {
        "colab": {
          "base_uri": "https://localhost:8080/",
          "height": 206
        },
        "outputId": "ee9fff62-68b2-4eda-98d0-b01c6893cff3",
        "id": "dKqFpO0FrCHr"
      },
      "execution_count": null,
      "outputs": [
        {
          "output_type": "execute_result",
          "data": {
            "text/plain": [
              "     lesion_id      image_id   dx dx_type   age   sex localization\n",
              "0  HAM_0000118  ISIC_0027419  bkl   histo  80.0  male        scalp\n",
              "1  HAM_0000118  ISIC_0025030  bkl   histo  80.0  male        scalp\n",
              "2  HAM_0002730  ISIC_0026769  bkl   histo  80.0  male        scalp\n",
              "3  HAM_0002730  ISIC_0025661  bkl   histo  80.0  male        scalp\n",
              "4  HAM_0001466  ISIC_0031633  bkl   histo  75.0  male          ear"
            ],
            "text/html": [
              "\n",
              "  <div id=\"df-f6a2eebb-4f92-4ce8-abd1-1b39c8dc1741\">\n",
              "    <div class=\"colab-df-container\">\n",
              "      <div>\n",
              "<style scoped>\n",
              "    .dataframe tbody tr th:only-of-type {\n",
              "        vertical-align: middle;\n",
              "    }\n",
              "\n",
              "    .dataframe tbody tr th {\n",
              "        vertical-align: top;\n",
              "    }\n",
              "\n",
              "    .dataframe thead th {\n",
              "        text-align: right;\n",
              "    }\n",
              "</style>\n",
              "<table border=\"1\" class=\"dataframe\">\n",
              "  <thead>\n",
              "    <tr style=\"text-align: right;\">\n",
              "      <th></th>\n",
              "      <th>lesion_id</th>\n",
              "      <th>image_id</th>\n",
              "      <th>dx</th>\n",
              "      <th>dx_type</th>\n",
              "      <th>age</th>\n",
              "      <th>sex</th>\n",
              "      <th>localization</th>\n",
              "    </tr>\n",
              "  </thead>\n",
              "  <tbody>\n",
              "    <tr>\n",
              "      <th>0</th>\n",
              "      <td>HAM_0000118</td>\n",
              "      <td>ISIC_0027419</td>\n",
              "      <td>bkl</td>\n",
              "      <td>histo</td>\n",
              "      <td>80.0</td>\n",
              "      <td>male</td>\n",
              "      <td>scalp</td>\n",
              "    </tr>\n",
              "    <tr>\n",
              "      <th>1</th>\n",
              "      <td>HAM_0000118</td>\n",
              "      <td>ISIC_0025030</td>\n",
              "      <td>bkl</td>\n",
              "      <td>histo</td>\n",
              "      <td>80.0</td>\n",
              "      <td>male</td>\n",
              "      <td>scalp</td>\n",
              "    </tr>\n",
              "    <tr>\n",
              "      <th>2</th>\n",
              "      <td>HAM_0002730</td>\n",
              "      <td>ISIC_0026769</td>\n",
              "      <td>bkl</td>\n",
              "      <td>histo</td>\n",
              "      <td>80.0</td>\n",
              "      <td>male</td>\n",
              "      <td>scalp</td>\n",
              "    </tr>\n",
              "    <tr>\n",
              "      <th>3</th>\n",
              "      <td>HAM_0002730</td>\n",
              "      <td>ISIC_0025661</td>\n",
              "      <td>bkl</td>\n",
              "      <td>histo</td>\n",
              "      <td>80.0</td>\n",
              "      <td>male</td>\n",
              "      <td>scalp</td>\n",
              "    </tr>\n",
              "    <tr>\n",
              "      <th>4</th>\n",
              "      <td>HAM_0001466</td>\n",
              "      <td>ISIC_0031633</td>\n",
              "      <td>bkl</td>\n",
              "      <td>histo</td>\n",
              "      <td>75.0</td>\n",
              "      <td>male</td>\n",
              "      <td>ear</td>\n",
              "    </tr>\n",
              "  </tbody>\n",
              "</table>\n",
              "</div>\n",
              "      <button class=\"colab-df-convert\" onclick=\"convertToInteractive('df-f6a2eebb-4f92-4ce8-abd1-1b39c8dc1741')\"\n",
              "              title=\"Convert this dataframe to an interactive table.\"\n",
              "              style=\"display:none;\">\n",
              "        \n",
              "  <svg xmlns=\"http://www.w3.org/2000/svg\" height=\"24px\"viewBox=\"0 0 24 24\"\n",
              "       width=\"24px\">\n",
              "    <path d=\"M0 0h24v24H0V0z\" fill=\"none\"/>\n",
              "    <path d=\"M18.56 5.44l.94 2.06.94-2.06 2.06-.94-2.06-.94-.94-2.06-.94 2.06-2.06.94zm-11 1L8.5 8.5l.94-2.06 2.06-.94-2.06-.94L8.5 2.5l-.94 2.06-2.06.94zm10 10l.94 2.06.94-2.06 2.06-.94-2.06-.94-.94-2.06-.94 2.06-2.06.94z\"/><path d=\"M17.41 7.96l-1.37-1.37c-.4-.4-.92-.59-1.43-.59-.52 0-1.04.2-1.43.59L10.3 9.45l-7.72 7.72c-.78.78-.78 2.05 0 2.83L4 21.41c.39.39.9.59 1.41.59.51 0 1.02-.2 1.41-.59l7.78-7.78 2.81-2.81c.8-.78.8-2.07 0-2.86zM5.41 20L4 18.59l7.72-7.72 1.47 1.35L5.41 20z\"/>\n",
              "  </svg>\n",
              "      </button>\n",
              "      \n",
              "  <style>\n",
              "    .colab-df-container {\n",
              "      display:flex;\n",
              "      flex-wrap:wrap;\n",
              "      gap: 12px;\n",
              "    }\n",
              "\n",
              "    .colab-df-convert {\n",
              "      background-color: #E8F0FE;\n",
              "      border: none;\n",
              "      border-radius: 50%;\n",
              "      cursor: pointer;\n",
              "      display: none;\n",
              "      fill: #1967D2;\n",
              "      height: 32px;\n",
              "      padding: 0 0 0 0;\n",
              "      width: 32px;\n",
              "    }\n",
              "\n",
              "    .colab-df-convert:hover {\n",
              "      background-color: #E2EBFA;\n",
              "      box-shadow: 0px 1px 2px rgba(60, 64, 67, 0.3), 0px 1px 3px 1px rgba(60, 64, 67, 0.15);\n",
              "      fill: #174EA6;\n",
              "    }\n",
              "\n",
              "    [theme=dark] .colab-df-convert {\n",
              "      background-color: #3B4455;\n",
              "      fill: #D2E3FC;\n",
              "    }\n",
              "\n",
              "    [theme=dark] .colab-df-convert:hover {\n",
              "      background-color: #434B5C;\n",
              "      box-shadow: 0px 1px 3px 1px rgba(0, 0, 0, 0.15);\n",
              "      filter: drop-shadow(0px 1px 2px rgba(0, 0, 0, 0.3));\n",
              "      fill: #FFFFFF;\n",
              "    }\n",
              "  </style>\n",
              "\n",
              "      <script>\n",
              "        const buttonEl =\n",
              "          document.querySelector('#df-f6a2eebb-4f92-4ce8-abd1-1b39c8dc1741 button.colab-df-convert');\n",
              "        buttonEl.style.display =\n",
              "          google.colab.kernel.accessAllowed ? 'block' : 'none';\n",
              "\n",
              "        async function convertToInteractive(key) {\n",
              "          const element = document.querySelector('#df-f6a2eebb-4f92-4ce8-abd1-1b39c8dc1741');\n",
              "          const dataTable =\n",
              "            await google.colab.kernel.invokeFunction('convertToInteractive',\n",
              "                                                     [key], {});\n",
              "          if (!dataTable) return;\n",
              "\n",
              "          const docLinkHtml = 'Like what you see? Visit the ' +\n",
              "            '<a target=\"_blank\" href=https://colab.research.google.com/notebooks/data_table.ipynb>data table notebook</a>'\n",
              "            + ' to learn more about interactive tables.';\n",
              "          element.innerHTML = '';\n",
              "          dataTable['output_type'] = 'display_data';\n",
              "          await google.colab.output.renderOutput(dataTable, element);\n",
              "          const docLink = document.createElement('div');\n",
              "          docLink.innerHTML = docLinkHtml;\n",
              "          element.appendChild(docLink);\n",
              "        }\n",
              "      </script>\n",
              "    </div>\n",
              "  </div>\n",
              "  "
            ]
          },
          "metadata": {},
          "execution_count": 6
        }
      ]
    },
    {
      "cell_type": "code",
      "source": [
        "classes = {4: ('nv', ' melanocytic nevi'), 6: ('mel', 'melanoma'), 2 :('bkl', 'benign keratosis-like lesions'), 1:('bcc' , ' basal cell carcinoma'), 5: ('vasc', ' pyogenic granulomas and hemorrhage'), 0: ('akiec', 'Actinic keratoses and intraepithelial carcinomae'),  3: ('df', 'dermatofibroma')}"
      ],
      "metadata": {
        "id": "3yBefkwSr1zz"
      },
      "execution_count": null,
      "outputs": []
    },
    {
      "cell_type": "code",
      "source": [],
      "metadata": {
        "id": "NZvDwztrTNx0"
      },
      "execution_count": null,
      "outputs": []
    },
    {
      "cell_type": "code",
      "source": [
        "oversample = RandomOverSampler()\n",
        "x,y  = oversample.fit_resample(x,y)"
      ],
      "metadata": {
        "id": "wNo-HUNEr18N"
      },
      "execution_count": null,
      "outputs": []
    },
    {
      "cell_type": "code",
      "source": [
        "x = np.array(x).reshape(-1,28,28,3)\n",
        "print('Shape of X :',x.shape)"
      ],
      "metadata": {
        "colab": {
          "base_uri": "https://localhost:8080/"
        },
        "id": "_FBs39Cmr1_m",
        "outputId": "02b1ce0a-7418-4798-acb2-0e27bdbd2f9a"
      },
      "execution_count": null,
      "outputs": [
        {
          "output_type": "stream",
          "name": "stdout",
          "text": [
            "Shape of X : (46935, 28, 28, 3)\n"
          ]
        }
      ]
    },
    {
      "cell_type": "code",
      "source": [
        "x = (x-np.mean(x))/np.std(x)\n",
        "X_train, X_test, Y_train, Y_test = train_test_split(x,y, test_size=0.2, random_state=1)"
      ],
      "metadata": {
        "id": "sf8F2bZ-sH5d"
      },
      "execution_count": null,
      "outputs": []
    },
    {
      "cell_type": "code",
      "source": [
        "data.shape"
      ],
      "metadata": {
        "colab": {
          "base_uri": "https://localhost:8080/"
        },
        "id": "ikZov0KByBIx",
        "outputId": "8b3588dd-c872-4461-f2f1-07693031b554"
      },
      "execution_count": null,
      "outputs": [
        {
          "output_type": "execute_result",
          "data": {
            "text/plain": [
              "(10015, 2353)"
            ]
          },
          "metadata": {},
          "execution_count": 11
        }
      ]
    },
    {
      "cell_type": "code",
      "source": [
        "data.label.value_counts()"
      ],
      "metadata": {
        "colab": {
          "base_uri": "https://localhost:8080/"
        },
        "id": "dTjm74PkztsP",
        "outputId": "3c7fddc4-dd7a-4788-add5-1095bafc5041"
      },
      "execution_count": null,
      "outputs": [
        {
          "output_type": "execute_result",
          "data": {
            "text/plain": [
              "4    6705\n",
              "6    1113\n",
              "2    1099\n",
              "1     514\n",
              "0     327\n",
              "5     142\n",
              "3     115\n",
              "Name: label, dtype: int64"
            ]
          },
          "metadata": {},
          "execution_count": 12
        }
      ]
    },
    {
      "cell_type": "code",
      "source": [
        "label_names = [classes[key][0] for key in data['label'].value_counts().index]\n",
        "sns.barplot(x=label_names, y=data[\"label\"].value_counts().values)\n"
      ],
      "metadata": {
        "colab": {
          "base_uri": "https://localhost:8080/",
          "height": 450
        },
        "id": "GYhjcVbk0d6b",
        "outputId": "bb295229-b1f1-44af-e0c9-727531c6b0e8"
      },
      "execution_count": null,
      "outputs": [
        {
          "output_type": "execute_result",
          "data": {
            "text/plain": [
              "<Axes: >"
            ]
          },
          "metadata": {},
          "execution_count": 13
        },
        {
          "output_type": "display_data",
          "data": {
            "text/plain": [
              "<Figure size 640x480 with 1 Axes>"
            ],
            "image/png": "[encoded data removed]"
          },
          "metadata": {}
        }
      ]
    },
    {
      "cell_type": "code",
      "source": [
        "print(f\"\"\"\n",
        "X_train shape: {X_train.shape}\n",
        "X_test shape: {X_test.shape}\n",
        "y_train shape: {Y_train.shape}\n",
        "y_test shape: {Y_test.shape}\n",
        "\"\"\")"
      ],
      "metadata": {
        "colab": {
          "base_uri": "https://localhost:8080/"
        },
        "id": "NhPCMjPRw60-",
        "outputId": "b312dfdd-b324-42f9-ebee-943198fa7722"
      },
      "execution_count": null,
      "outputs": [
        {
          "output_type": "stream",
          "name": "stdout",
          "text": [
            "\n",
            "X_train shape: (37548, 28, 28, 3)\n",
            "X_test shape: (9387, 28, 28, 3)\n",
            "y_train shape: (37548,)\n",
            "y_test shape: (9387,)\n",
            "\n"
          ]
        }
      ]
    },
    {
      "cell_type": "code",
      "source": [
        "model = Sequential()\n",
        "model.add(Conv2D(16, kernel_size = (3,3), input_shape = (28, 28, 3), activation = 'relu', padding = 'same'))\n",
        "model.add(Conv2D(32, kernel_size = (3,3), activation = 'relu'))\n",
        "model.add(MaxPool2D(pool_size = (2,2)))\n",
        "model.add(Conv2D(32, kernel_size = (3,3), activation = 'relu', padding = 'same'))\n",
        "model.add(Conv2D(64, kernel_size = (3,3), activation = 'relu'))\n",
        "model.add(MaxPool2D(pool_size = (2,2), padding = 'same'))\n",
        "model.add(Flatten())\n",
        "model.add(Dense(64, activation='relu'))\n",
        "model.add(Dense(32, activation='relu'))\n",
        "model.add(Dense(7, activation='softmax'))\n",
        "model.summary()"
      ],
      "metadata": {
        "colab": {
          "base_uri": "https://localhost:8080/"
        },
        "id": "XyF1wgamsH8S",
        "outputId": "006dd5b2-cbdc-4d55-f4d4-94efcc23bf93"
      },
      "execution_count": null,
      "outputs": [
        {
          "output_type": "stream",
          "name": "stdout",
          "text": [
            "Model: \"sequential\"\n",
            "_________________________________________________________________\n",
            " Layer (type)                Output Shape              Param #   \n",
            "=================================================================\n",
            " conv2d (Conv2D)             (None, 28, 28, 16)        448       \n",
            "                                                                 \n",
            " conv2d_1 (Conv2D)           (None, 26, 26, 32)        4640      \n",
            "                                                                 \n",
            " max_pooling2d (MaxPooling2D  (None, 13, 13, 32)       0         \n",
            " )                                                               \n",
            "                                                                 \n",
            " conv2d_2 (Conv2D)           (None, 13, 13, 32)        9248      \n",
            "                                                                 \n",
            " conv2d_3 (Conv2D)           (None, 11, 11, 64)        18496     \n",
            "                                                                 \n",
            " max_pooling2d_1 (MaxPooling  (None, 6, 6, 64)         0         \n",
            " 2D)                                                             \n",
            "                                                                 \n",
            " flatten (Flatten)           (None, 2304)              0         \n",
            "                                                                 \n",
            " dense (Dense)               (None, 64)                147520    \n",
            "                                                                 \n",
            " dense_1 (Dense)             (None, 32)                2080      \n",
            "                                                                 \n",
            " dense_2 (Dense)             (None, 7)                 231       \n",
            "                                                                 \n",
            "=================================================================\n",
            "Total params: 182,663\n",
            "Trainable params: 182,663\n",
            "Non-trainable params: 0\n",
            "_________________________________________________________________\n"
          ]
        }
      ]
    },
    {
      "cell_type": "code",
      "source": [
        "callback = tf.keras.callbacks.ModelCheckpoint(filepath='best_model.h5',\n",
        "                                                  monitor='val_acc', mode='max',\n",
        "                                                 verbose=1)\n",
        "model.compile(loss = 'sparse_categorical_crossentropy',\n",
        "             optimizer = 'adam',\n",
        "              metrics = ['accuracy'])\n",
        "history = model.fit(X_train,\n",
        "                    Y_train,\n",
        "                    validation_split=0.2,\n",
        "                    batch_size = 128,\n",
        "                    epochs = 20,\n",
        "                    callbacks=[callback])"
      ],
      "metadata": {
        "colab": {
          "base_uri": "https://localhost:8080/"
        },
        "id": "357DGma-sTGW",
        "outputId": "790f073e-817c-46d2-ffb3-ec0f3b10a337"
      },
      "execution_count": null,
      "outputs": [
        {
          "output_type": "stream",
          "name": "stdout",
          "text": [
            "Epoch 1/20\n",
            "235/235 [==============================] - ETA: 0s - loss: 1.1950 - accuracy: 0.5389\n",
            "Epoch 1: saving model to best_model.h5\n",
            "235/235 [==============================] - 78s 321ms/step - loss: 1.1950 - accuracy: 0.5389 - val_loss: 0.8224 - val_accuracy: 0.6897\n",
            "Epoch 2/20\n",
            "235/235 [==============================] - ETA: 0s - loss: 0.6613 - accuracy: 0.7548\n",
            "Epoch 2: saving model to best_model.h5\n",
            "235/235 [==============================] - 74s 315ms/step - loss: 0.6613 - accuracy: 0.7548 - val_loss: 0.5480 - val_accuracy: 0.8020\n",
            "Epoch 3/20\n",
            "235/235 [==============================] - ETA: 0s - loss: 0.4288 - accuracy: 0.8432\n",
            "Epoch 3: saving model to best_model.h5\n",
            "235/235 [==============================] - 72s 307ms/step - loss: 0.4288 - accuracy: 0.8432 - val_loss: 0.3696 - val_accuracy: 0.8688\n",
            "Epoch 4/20\n",
            "235/235 [==============================] - ETA: 0s - loss: 0.3108 - accuracy: 0.8879\n",
            "Epoch 4: saving model to best_model.h5\n",
            "235/235 [==============================] - 74s 314ms/step - loss: 0.3108 - accuracy: 0.8879 - val_loss: 0.3087 - val_accuracy: 0.8818\n",
            "Epoch 5/20\n",
            "235/235 [==============================] - ETA: 0s - loss: 0.2381 - accuracy: 0.9136\n",
            "Epoch 5: saving model to best_model.h5\n",
            "235/235 [==============================] - 93s 395ms/step - loss: 0.2381 - accuracy: 0.9136 - val_loss: 0.3011 - val_accuracy: 0.8862\n",
            "Epoch 6/20\n",
            "235/235 [==============================] - ETA: 0s - loss: 0.1976 - accuracy: 0.9285\n",
            "Epoch 6: saving model to best_model.h5\n",
            "235/235 [==============================] - 77s 327ms/step - loss: 0.1976 - accuracy: 0.9285 - val_loss: 0.2229 - val_accuracy: 0.9285\n",
            "Epoch 7/20\n",
            "235/235 [==============================] - ETA: 0s - loss: 0.1475 - accuracy: 0.9477\n",
            "Epoch 7: saving model to best_model.h5\n",
            "235/235 [==============================] - 74s 314ms/step - loss: 0.1475 - accuracy: 0.9477 - val_loss: 0.2057 - val_accuracy: 0.9344\n",
            "Epoch 8/20\n",
            "235/235 [==============================] - ETA: 0s - loss: 0.1340 - accuracy: 0.9515\n",
            "Epoch 8: saving model to best_model.h5\n",
            "235/235 [==============================] - 75s 318ms/step - loss: 0.1340 - accuracy: 0.9515 - val_loss: 0.2928 - val_accuracy: 0.9021\n",
            "Epoch 9/20\n",
            "235/235 [==============================] - ETA: 0s - loss: 0.1168 - accuracy: 0.9586\n",
            "Epoch 9: saving model to best_model.h5\n",
            "235/235 [==============================] - 76s 324ms/step - loss: 0.1168 - accuracy: 0.9586 - val_loss: 0.2228 - val_accuracy: 0.9306\n",
            "Epoch 10/20\n",
            "235/235 [==============================] - ETA: 0s - loss: 0.0819 - accuracy: 0.9709\n",
            "Epoch 10: saving model to best_model.h5\n",
            "235/235 [==============================] - 74s 316ms/step - loss: 0.0819 - accuracy: 0.9709 - val_loss: 0.2277 - val_accuracy: 0.9253\n",
            "Epoch 11/20\n",
            "235/235 [==============================] - ETA: 0s - loss: 0.0824 - accuracy: 0.9704\n",
            "Epoch 11: saving model to best_model.h5\n",
            "235/235 [==============================] - 79s 335ms/step - loss: 0.0824 - accuracy: 0.9704 - val_loss: 0.1640 - val_accuracy: 0.9522\n",
            "Epoch 12/20\n",
            "235/235 [==============================] - ETA: 0s - loss: 0.0706 - accuracy: 0.9749\n",
            "Epoch 12: saving model to best_model.h5\n",
            "235/235 [==============================] - 75s 320ms/step - loss: 0.0706 - accuracy: 0.9749 - val_loss: 0.1632 - val_accuracy: 0.9575\n",
            "Epoch 13/20\n",
            "235/235 [==============================] - ETA: 0s - loss: 0.0683 - accuracy: 0.9753\n",
            "Epoch 13: saving model to best_model.h5\n",
            "235/235 [==============================] - 74s 314ms/step - loss: 0.0683 - accuracy: 0.9753 - val_loss: 0.2023 - val_accuracy: 0.9521\n",
            "Epoch 14/20\n",
            "235/235 [==============================] - ETA: 0s - loss: 0.0627 - accuracy: 0.9777\n",
            "Epoch 14: saving model to best_model.h5\n",
            "235/235 [==============================] - 78s 333ms/step - loss: 0.0627 - accuracy: 0.9777 - val_loss: 0.2184 - val_accuracy: 0.9406\n",
            "Epoch 15/20\n",
            "235/235 [==============================] - ETA: 0s - loss: 0.0567 - accuracy: 0.9797\n",
            "Epoch 15: saving model to best_model.h5\n",
            "235/235 [==============================] - 75s 319ms/step - loss: 0.0567 - accuracy: 0.9797 - val_loss: 0.1340 - val_accuracy: 0.9660\n",
            "Epoch 16/20\n",
            "235/235 [==============================] - ETA: 0s - loss: 0.0312 - accuracy: 0.9893\n",
            "Epoch 16: saving model to best_model.h5\n",
            "235/235 [==============================] - 76s 323ms/step - loss: 0.0312 - accuracy: 0.9893 - val_loss: 0.1979 - val_accuracy: 0.9586\n",
            "Epoch 17/20\n",
            "235/235 [==============================] - ETA: 0s - loss: 0.0295 - accuracy: 0.9898\n",
            "Epoch 17: saving model to best_model.h5\n",
            "235/235 [==============================] - 74s 316ms/step - loss: 0.0295 - accuracy: 0.9898 - val_loss: 0.2058 - val_accuracy: 0.9519\n",
            "Epoch 18/20\n",
            "235/235 [==============================] - ETA: 0s - loss: 0.0584 - accuracy: 0.9806\n",
            "Epoch 18: saving model to best_model.h5\n",
            "235/235 [==============================] - 73s 311ms/step - loss: 0.0584 - accuracy: 0.9806 - val_loss: 0.1896 - val_accuracy: 0.9574\n",
            "Epoch 19/20\n",
            "235/235 [==============================] - ETA: 0s - loss: 0.0371 - accuracy: 0.9870\n",
            "Epoch 19: saving model to best_model.h5\n",
            "235/235 [==============================] - 73s 310ms/step - loss: 0.0371 - accuracy: 0.9870 - val_loss: 0.1321 - val_accuracy: 0.9700\n",
            "Epoch 20/20\n",
            "235/235 [==============================] - ETA: 0s - loss: 0.0329 - accuracy: 0.9883\n",
            "Epoch 20: saving model to best_model.h5\n",
            "235/235 [==============================] - 75s 321ms/step - loss: 0.0329 - accuracy: 0.9883 - val_loss: 0.2280 - val_accuracy: 0.9497\n"
          ]
        }
      ]
    },
    {
      "cell_type": "code",
      "source": [
        "# Plot the accuracy over the training epochs\n",
        "plt.plot(history.history['accuracy'])\n",
        "plt.plot(history.history['val_accuracy'])\n",
        "plt.title('Model Accuracy')\n",
        "plt.ylabel('Accuracy')\n",
        "plt.xlabel('Epoch')\n",
        "plt.legend(['Train', 'Validation'], loc='upper left')\n",
        "plt.show()"
      ],
      "metadata": {
        "colab": {
          "base_uri": "https://localhost:8080/",
          "height": 472
        },
        "id": "0MyHlEqhbm0I",
        "outputId": "1f390737-fb21-45f4-d526-f5432ee17716"
      },
      "execution_count": null,
      "outputs": [
        {
          "output_type": "display_data",
          "data": {
            "text/plain": [
              "<Figure size 640x480 with 1 Axes>"
            ],
            "image/png": "[encoded data removed]"
          },
          "metadata": {}
        }
      ]
    },
    {
      "cell_type": "code",
      "source": [
        "from tensorflow.keras.callbacks import ModelCheckpoint\n",
        "\n",
        "model.compile(loss = 'sparse_categorical_crossentropy',\n",
        "             optimizer = 'adam',\n",
        "              metrics = ['accuracy'])\n",
        "\n",
        "# Define the callback function to save the model with the best validation loss\n",
        "checkpoint = ModelCheckpoint('best_model.h5', \n",
        "                             monitor='val_loss', \n",
        "                             save_best_only=True, \n",
        "                             mode='min', \n",
        "                             verbose=1)\n",
        "\n",
        "# Train the model and save the best model based on the validation loss\n",
        "history2 = model.fit(X_train,\n",
        "                    Y_train,\n",
        "                    validation_split=0.2,\n",
        "                    batch_size = 128,\n",
        "                    epochs = 20,\n",
        "                    callbacks=[checkpoint])\n",
        "\n",
        "\n"
      ],
      "metadata": {
        "colab": {
          "base_uri": "https://localhost:8080/",
          "height": 1000
        },
        "id": "ryVTpD5UNoks",
        "outputId": "3f2f5bd6-1f6d-4553-daed-2205e36470c4"
      },
      "execution_count": null,
      "outputs": [
        {
          "output_type": "stream",
          "name": "stdout",
          "text": [
            "Epoch 1/20\n",
            "235/235 [==============================] - ETA: 0s - loss: 0.0329 - accuracy: 0.9889\n",
            "Epoch 1: val_loss improved from inf to 0.16967, saving model to best_model.h5\n",
            "235/235 [==============================] - 79s 329ms/step - loss: 0.0329 - accuracy: 0.9889 - val_loss: 0.1697 - val_accuracy: 0.9631\n",
            "Epoch 2/20\n",
            "235/235 [==============================] - ETA: 0s - loss: 0.0482 - accuracy: 0.9839\n",
            "Epoch 2: val_loss did not improve from 0.16967\n",
            "235/235 [==============================] - 78s 333ms/step - loss: 0.0482 - accuracy: 0.9839 - val_loss: 0.2307 - val_accuracy: 0.9486\n",
            "Epoch 3/20\n",
            "235/235 [==============================] - ETA: 0s - loss: 0.0210 - accuracy: 0.9934\n",
            "Epoch 3: val_loss improved from 0.16967 to 0.16513, saving model to best_model.h5\n",
            "235/235 [==============================] - 74s 315ms/step - loss: 0.0210 - accuracy: 0.9934 - val_loss: 0.1651 - val_accuracy: 0.9708\n",
            "Epoch 4/20\n",
            "235/235 [==============================] - ETA: 0s - loss: 0.0192 - accuracy: 0.9935\n",
            "Epoch 4: val_loss did not improve from 0.16513\n",
            "235/235 [==============================] - 79s 337ms/step - loss: 0.0192 - accuracy: 0.9935 - val_loss: 0.1694 - val_accuracy: 0.9640\n",
            "Epoch 5/20\n",
            "235/235 [==============================] - ETA: 0s - loss: 0.0626 - accuracy: 0.9799\n",
            "Epoch 5: val_loss improved from 0.16513 to 0.14913, saving model to best_model.h5\n",
            "235/235 [==============================] - 76s 322ms/step - loss: 0.0626 - accuracy: 0.9799 - val_loss: 0.1491 - val_accuracy: 0.9700\n",
            "Epoch 6/20\n",
            "235/235 [==============================] - ETA: 0s - loss: 0.0128 - accuracy: 0.9956\n",
            "Epoch 6: val_loss did not improve from 0.14913\n",
            "235/235 [==============================] - 76s 324ms/step - loss: 0.0128 - accuracy: 0.9956 - val_loss: 0.1785 - val_accuracy: 0.9628\n",
            "Epoch 7/20\n",
            "235/235 [==============================] - ETA: 0s - loss: 0.0318 - accuracy: 0.9892\n",
            "Epoch 7: val_loss did not improve from 0.14913\n",
            "235/235 [==============================] - 75s 319ms/step - loss: 0.0318 - accuracy: 0.9892 - val_loss: 0.1833 - val_accuracy: 0.9682\n",
            "Epoch 8/20\n",
            "235/235 [==============================] - ETA: 0s - loss: 0.0274 - accuracy: 0.9916\n",
            "Epoch 8: val_loss did not improve from 0.14913\n",
            "235/235 [==============================] - 74s 314ms/step - loss: 0.0274 - accuracy: 0.9916 - val_loss: 0.1719 - val_accuracy: 0.9646\n",
            "Epoch 9/20\n",
            "235/235 [==============================] - ETA: 0s - loss: 0.0446 - accuracy: 0.9860\n",
            "Epoch 9: val_loss did not improve from 0.14913\n",
            "235/235 [==============================] - 74s 315ms/step - loss: 0.0446 - accuracy: 0.9860 - val_loss: 0.1721 - val_accuracy: 0.9668\n",
            "Epoch 10/20\n",
            "235/235 [==============================] - ETA: 0s - loss: 0.0096 - accuracy: 0.9967\n",
            "Epoch 10: val_loss improved from 0.14913 to 0.14242, saving model to best_model.h5\n",
            "235/235 [==============================] - 73s 311ms/step - loss: 0.0096 - accuracy: 0.9967 - val_loss: 0.1424 - val_accuracy: 0.9747\n",
            "Epoch 11/20\n",
            "235/235 [==============================] - ETA: 0s - loss: 0.0026 - accuracy: 0.9994\n",
            "Epoch 11: val_loss did not improve from 0.14242\n",
            "235/235 [==============================] - 74s 314ms/step - loss: 0.0026 - accuracy: 0.9994 - val_loss: 0.1653 - val_accuracy: 0.9764\n",
            "Epoch 12/20\n",
            "235/235 [==============================] - ETA: 0s - loss: 3.3781e-04 - accuracy: 1.0000\n",
            "Epoch 12: val_loss did not improve from 0.14242\n",
            "235/235 [==============================] - 73s 309ms/step - loss: 3.3781e-04 - accuracy: 1.0000 - val_loss: 0.1659 - val_accuracy: 0.9772\n",
            "Epoch 13/20\n",
            "235/235 [==============================] - ETA: 0s - loss: 1.3823e-04 - accuracy: 1.0000\n",
            "Epoch 13: val_loss did not improve from 0.14242\n",
            "235/235 [==============================] - 75s 321ms/step - loss: 1.3823e-04 - accuracy: 1.0000 - val_loss: 0.1845 - val_accuracy: 0.9756\n",
            "Epoch 14/20\n",
            "235/235 [==============================] - ETA: 0s - loss: 8.1920e-05 - accuracy: 1.0000\n",
            "Epoch 14: val_loss did not improve from 0.14242\n",
            "235/235 [==============================] - 75s 321ms/step - loss: 8.1920e-05 - accuracy: 1.0000 - val_loss: 0.1816 - val_accuracy: 0.9774\n",
            "Epoch 15/20\n",
            "235/235 [==============================] - ETA: 0s - loss: 6.3853e-05 - accuracy: 1.0000\n",
            "Epoch 15: val_loss did not improve from 0.14242\n",
            "235/235 [==============================] - 76s 322ms/step - loss: 6.3853e-05 - accuracy: 1.0000 - val_loss: 0.1928 - val_accuracy: 0.9759\n",
            "Epoch 16/20\n",
            "235/235 [==============================] - ETA: 0s - loss: 5.1075e-05 - accuracy: 1.0000\n",
            "Epoch 16: val_loss did not improve from 0.14242\n",
            "235/235 [==============================] - 76s 323ms/step - loss: 5.1075e-05 - accuracy: 1.0000 - val_loss: 0.1937 - val_accuracy: 0.9763\n",
            "Epoch 17/20\n",
            "235/235 [==============================] - ETA: 0s - loss: 4.2565e-05 - accuracy: 1.0000\n",
            "Epoch 17: val_loss did not improve from 0.14242\n",
            "235/235 [==============================] - 75s 318ms/step - loss: 4.2565e-05 - accuracy: 1.0000 - val_loss: 0.1986 - val_accuracy: 0.9763\n",
            "Epoch 18/20\n",
            "235/235 [==============================] - ETA: 0s - loss: 3.5439e-05 - accuracy: 1.0000\n",
            "Epoch 18: val_loss did not improve from 0.14242\n",
            "235/235 [==============================] - 74s 317ms/step - loss: 3.5439e-05 - accuracy: 1.0000 - val_loss: 0.2023 - val_accuracy: 0.9763\n",
            "Epoch 19/20\n",
            "235/235 [==============================] - ETA: 0s - loss: 3.0032e-05 - accuracy: 1.0000\n",
            "Epoch 19: val_loss did not improve from 0.14242\n",
            "235/235 [==============================] - 74s 314ms/step - loss: 3.0032e-05 - accuracy: 1.0000 - val_loss: 0.2061 - val_accuracy: 0.9762\n",
            "Epoch 20/20\n",
            "235/235 [==============================] - ETA: 0s - loss: 2.5769e-05 - accuracy: 1.0000\n",
            "Epoch 20: val_loss did not improve from 0.14242\n",
            "235/235 [==============================] - 78s 332ms/step - loss: 2.5769e-05 - accuracy: 1.0000 - val_loss: 0.2048 - val_accuracy: 0.9766\n"
          ]
        },
        {
          "output_type": "error",
          "ename": "NameError",
          "evalue": "ignored",
          "traceback": [
            "\u001b[0;31m---------------------------------------------------------------------------\u001b[0m",
            "\u001b[0;31mNameError\u001b[0m                                 Traceback (most recent call last)",
            "\u001b[0;32m<ipython-input-18-9786061a4e47>\u001b[0m in \u001b[0;36m<cell line: 23>\u001b[0;34m()\u001b[0m\n\u001b[1;32m     21\u001b[0m \u001b[0;34m\u001b[0m\u001b[0m\n\u001b[1;32m     22\u001b[0m \u001b[0;31m# Load the best model\u001b[0m\u001b[0;34m\u001b[0m\u001b[0;34m\u001b[0m\u001b[0m\n\u001b[0;32m---> 23\u001b[0;31m \u001b[0mbest_model\u001b[0m \u001b[0;34m=\u001b[0m \u001b[0mload_model\u001b[0m\u001b[0;34m(\u001b[0m\u001b[0;34m'best_model.h5'\u001b[0m\u001b[0;34m)\u001b[0m\u001b[0;34m\u001b[0m\u001b[0;34m\u001b[0m\u001b[0m\n\u001b[0m",
            "\u001b[0;31mNameError\u001b[0m: name 'load_model' is not defined"
          ]
        }
      ]
    },
    {
      "cell_type": "code",
      "source": [
        "from tensorflow.keras.models import load_model\n",
        "\n",
        "# Load the best model\n",
        "best_model = load_model('best_model.h5')"
      ],
      "metadata": {
        "id": "sJhHvnr-VYTo"
      },
      "execution_count": null,
      "outputs": []
    },
    {
      "cell_type": "code",
      "source": [
        "from sklearn.metrics import classification_report\n",
        "\n",
        "# Define the class names based on the classes dictionary\n",
        "class_names = [classes[key][1] for key in classes.keys()]\n",
        "# Predict the classes for the test set using the best model\n",
        "y_pred_prob = best_model.predict(X_test)\n",
        "y_pred = y_pred_prob.argmax(axis=-1)\n",
        "\n",
        "# Calculate the accuracy on the test set\n",
        "accuracy = np.mean(y_pred == Y_test)\n",
        "\n",
        "# Print the accuracy\n",
        "print('Accuracy on test set: {:.2f}%'.format(accuracy * 100))\n",
        "# Generate the classification report with class names\n",
        "\n",
        "class_names = [classes[key][1] for key in classes.keys()]\n",
        "print(classification_report(Y_test, y_pred, target_names=class_names))\n",
        "\n"
      ],
      "metadata": {
        "colab": {
          "base_uri": "https://localhost:8080/"
        },
        "id": "g4AKc4uBTX4C",
        "outputId": "d139e849-2dc3-4023-e322-251d120a2eb4"
      },
      "execution_count": null,
      "outputs": [
        {
          "output_type": "stream",
          "name": "stdout",
          "text": [
            "294/294 [==============================] - 6s 20ms/step\n",
            "Accuracy on test set: 97.75%\n",
            "                                                  precision    recall  f1-score   support\n",
            "\n",
            "                                melanocytic nevi       0.99      1.00      1.00      1359\n",
            "                                        melanoma       0.99      1.00      0.99      1318\n",
            "                   benign keratosis-like lesions       0.96      0.98      0.97      1262\n",
            "                            basal cell carcinoma       1.00      1.00      1.00      1351\n",
            "              pyogenic granulomas and hemorrhage       0.96      0.89      0.93      1374\n",
            "Actinic keratoses and intraepithelial carcinomae       0.99      1.00      1.00      1358\n",
            "                                  dermatofibroma       0.95      0.97      0.96      1365\n",
            "\n",
            "                                        accuracy                           0.98      9387\n",
            "                                       macro avg       0.98      0.98      0.98      9387\n",
            "                                    weighted avg       0.98      0.98      0.98      9387\n",
            "\n"
          ]
        }
      ]
    },
    {
      "cell_type": "code",
      "source": [
        "# Plot the accuracy over the training epochs\n",
        "plt.plot(history2.history['accuracy'])\n",
        "plt.plot(history2.history['val_accuracy'])\n",
        "plt.title('Model Accuracy')\n",
        "plt.ylabel('Accuracy')\n",
        "plt.xlabel('Epoch')\n",
        "plt.legend(['Train', 'Validation'], loc='upper left')\n",
        "plt.show()"
      ],
      "metadata": {
        "colab": {
          "base_uri": "https://localhost:8080/",
          "height": 472
        },
        "id": "V8dYDCeTsTJV",
        "outputId": "c025d5f8-31ba-4fd6-98b7-6b761c336115"
      },
      "execution_count": null,
      "outputs": [
        {
          "output_type": "display_data",
          "data": {
            "text/plain": [
              "<Figure size 640x480 with 1 Axes>"
            ],
            "image/png": "[encoded data removed]"
          },
          "metadata": {}
        }
      ]
    },
    {
      "cell_type": "code",
      "source": [
        "model.load_weights('best_model.h5')"
      ],
      "metadata": {
        "id": "oPpDoFdUsTNY"
      },
      "execution_count": null,
      "outputs": []
    },
    {
      "cell_type": "code",
      "source": [
        "model.save('best_model.h5')\n"
      ],
      "metadata": {
        "id": "5_0kRmemfHa-"
      },
      "execution_count": null,
      "outputs": []
    },
    {
      "cell_type": "code",
      "source": [
        "!ls\n"
      ],
      "metadata": {
        "colab": {
          "base_uri": "https://localhost:8080/"
        },
        "id": "jCwnjhFUf5_A",
        "outputId": "9d974941-cb51-4d10-c58e-06fe4a42b102"
      },
      "execution_count": null,
      "outputs": [
        {
          "output_type": "stream",
          "name": "stdout",
          "text": [
            "best_model.h5  drive  sample_data\n"
          ]
        }
      ]
    },
    {
      "cell_type": "code",
      "source": [
        "loss, acc = model.evaluate(X_test, Y_test, verbose=2)\n"
      ],
      "metadata": {
        "colab": {
          "base_uri": "https://localhost:8080/"
        },
        "id": "N7mJnh0IsIEt",
        "outputId": "9466001e-cc55-4210-caa0-922f31f88bd5"
      },
      "execution_count": null,
      "outputs": [
        {
          "output_type": "stream",
          "name": "stdout",
          "text": [
            "294/294 - 7s - loss: 0.1262 - accuracy: 0.9775 - 7s/epoch - 23ms/step\n"
          ]
        }
      ]
    },
    {
      "cell_type": "code",
      "source": [
        "from google.colab.patches import cv2_imshow\n",
        "srcdir = '/content/drive/MyDrive/data source/HAM10000_images_part_1'\n",
        "count=0\n",
        "for temp in os.listdir(srcdir):\n",
        "    img = cv2.imread(os.path.join(srcdir, temp))\n",
        "    cv2.imwrite(temp, img)\n",
        "    cv2_imshow(img)\n",
        "    img = cv2.resize(img, (28, 28))\n",
        "    result = model.predict(img.reshape(1, 28, 28, 3))\n",
        "    max_prob = max(result[0])\n",
        "    class_ind = list(result[0]).index(max_prob)\n",
        "    class_name = classes[class_ind]\n",
        "    print(class_name)\n",
        "    count+=1\n",
        "    if count>10:\n",
        "        break"
      ],
      "metadata": {
        "id": "dnZJad169Hus",
        "colab": {
          "base_uri": "https://localhost:8080/"
        },
        "outputId": "51d33f65-d41b-4551-abaa-d16b142bd1b8"
      },
      "execution_count": null,
      "outputs": [
        {
          "output_type": "error",
          "ename": "NameError",
          "evalue": "ignored",
          "traceback": [
            "\u001b[0;31m---------------------------------------------------------------------------\u001b[0m",
            "\u001b[0;31mNameError\u001b[0m                                 Traceback (most recent call last)",
            "\u001b[0;32m<ipython-input-1-8c0522132f3e>\u001b[0m in \u001b[0;36m<cell line: 4>\u001b[0;34m()\u001b[0m\n\u001b[1;32m      2\u001b[0m \u001b[0msrcdir\u001b[0m \u001b[0;34m=\u001b[0m \u001b[0;34m'/content/drive/MyDrive/data source/HAM10000_images_part_1'\u001b[0m\u001b[0;34m\u001b[0m\u001b[0;34m\u001b[0m\u001b[0m\n\u001b[1;32m      3\u001b[0m \u001b[0mcount\u001b[0m\u001b[0;34m=\u001b[0m\u001b[0;36m0\u001b[0m\u001b[0;34m\u001b[0m\u001b[0;34m\u001b[0m\u001b[0m\n\u001b[0;32m----> 4\u001b[0;31m \u001b[0;32mfor\u001b[0m \u001b[0mtemp\u001b[0m \u001b[0;32min\u001b[0m \u001b[0mos\u001b[0m\u001b[0;34m.\u001b[0m\u001b[0mlistdir\u001b[0m\u001b[0;34m(\u001b[0m\u001b[0msrcdir\u001b[0m\u001b[0;34m)\u001b[0m\u001b[0;34m:\u001b[0m\u001b[0;34m\u001b[0m\u001b[0;34m\u001b[0m\u001b[0m\n\u001b[0m\u001b[1;32m      5\u001b[0m     \u001b[0mimg\u001b[0m \u001b[0;34m=\u001b[0m \u001b[0mcv2\u001b[0m\u001b[0;34m.\u001b[0m\u001b[0mimread\u001b[0m\u001b[0;34m(\u001b[0m\u001b[0mos\u001b[0m\u001b[0;34m.\u001b[0m\u001b[0mpath\u001b[0m\u001b[0;34m.\u001b[0m\u001b[0mjoin\u001b[0m\u001b[0;34m(\u001b[0m\u001b[0msrcdir\u001b[0m\u001b[0;34m,\u001b[0m \u001b[0mtemp\u001b[0m\u001b[0;34m)\u001b[0m\u001b[0;34m)\u001b[0m\u001b[0;34m\u001b[0m\u001b[0;34m\u001b[0m\u001b[0m\n\u001b[1;32m      6\u001b[0m     \u001b[0mcv2\u001b[0m\u001b[0;34m.\u001b[0m\u001b[0mimwrite\u001b[0m\u001b[0;34m(\u001b[0m\u001b[0mtemp\u001b[0m\u001b[0;34m,\u001b[0m \u001b[0mimg\u001b[0m\u001b[0;34m)\u001b[0m\u001b[0;34m\u001b[0m\u001b[0;34m\u001b[0m\u001b[0m\n",
            "\u001b[0;31mNameError\u001b[0m: name 'os' is not defined"
          ]
        }
      ]
    }
  ]
}